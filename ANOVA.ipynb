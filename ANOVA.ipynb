{
 "cells": [
  {
   "cell_type": "code",
   "execution_count": 3,
   "metadata": {},
   "outputs": [
    {
     "name": "stderr",
     "output_type": "stream",
     "text": [
      "/tmp/ipykernel_23600/1960364926.py:3: UserWarning: A NumPy version >=1.22.4 and <2.3.0 is required for this version of SciPy (detected version 1.21.5)\n",
      "  from scipy import stats\n"
     ]
    }
   ],
   "source": [
    "# Improting the necessary libraries\n",
    "import numpy as np\n",
    "from scipy import stats"
   ]
  },
  {
   "cell_type": "code",
   "execution_count": 4,
   "metadata": {},
   "outputs": [],
   "source": [
    "# ANOVA CODE\n",
    "\n",
    "def anova(*args):\n",
    "    #finding the means\n",
    "    length = len(args) \n",
    "    means = [0]*length\n",
    "    counts = [0]*length\n",
    "    sum = [0]*length\n",
    "    count = [0]*length\n",
    "    for i,k in zip(args,range(length)):\n",
    "        for j in i:\n",
    "            sum[k] += j\n",
    "            count[k] += 1\n",
    "        mean = sum[k]/count[k]\n",
    "        means[k] = mean\n",
    "        counts[k] = count[k]\n",
    "    #finding the overall mean\n",
    "    sum_of_mean = 0\n",
    "    sum_of_count = 0\n",
    "    for s,t in zip(means,counts):\n",
    "        sum_of_mean += s\n",
    "        sum_of_count += t\n",
    "    overall_mean = sum_of_mean/length\n",
    "    #finding the sum of squares between the groups and within the groups\n",
    "    ssb = 0\n",
    "    ssw = 0\n",
    "    for p,q,r in zip(means,range(length),args):\n",
    "        ssb += counts[q]*(p-overall_mean)**2\n",
    "        for u in r:\n",
    "            ssw += (u - p)**2  \n",
    "    degree_of_freedom_ssb = length -1\n",
    "    degree_of_freedom_ssw = sum_of_count - length\n",
    "    msb = ssb/(degree_of_freedom_ssb)\n",
    "    mse = ssw/(degree_of_freedom_ssw)\n",
    "    F_test = msb/mse\n",
    "    p_value = stats.f_oneway(*args).pvalue\n",
    "    print('The given inputs are:')\n",
    "    for x in args:\n",
    "        print(x)\n",
    "    print('The sample means are                         :', means)\n",
    "    print('The number of items in each group are        :', counts)\n",
    "    print('The overall mean                             :', overall_mean)\n",
    "    print('The sum of square between the groups         : %.4f' % ssb)\n",
    "    print('The degree of freedom for between the groups :',degree_of_freedom_ssb)\n",
    "    print('The sum of square within the groups          : %.4f' % ssw)\n",
    "    print('The degree of freedom for within the groups  :',degree_of_freedom_ssw)\n",
    "    print('The mean sum of square between the groups    : %.4f' % msb )\n",
    "    print('The mean sum of square within the groups     : %.4f' % mse )\n",
    "    print('The F statistics is                          : %.4f' % F_test)\n",
    "    print('The p value is                               : %.4f' % p_value)\n",
    "    print('\\nINTERPRETATION')\n",
    "    if p_value<0.05:\n",
    "        result = \"We reject the null hypothesis\"    \n",
    "    else:\n",
    "        result = 'We accept the null hypothesis'\n",
    "        print(result)\n"
   ]
  },
  {
   "cell_type": "code",
   "execution_count": 5,
   "metadata": {},
   "outputs": [
    {
     "name": "stdout",
     "output_type": "stream",
     "text": [
      "The given inputs are:\n",
      "[9, 11, 13, 9, 8, 7, 13, 14]\n",
      "[13, 12, 10, 15, 5, 7, 9, 6]\n",
      "[5, 8, 6, 14, 13, 17, 7, 9]\n",
      "The sample means are                         : [10.5, 9.625, 9.875]\n",
      "The number of items in each group are        : [8, 8, 8]\n",
      "The overall mean                             : 10.0\n",
      "The sum of square between the groups         : 3.2500\n",
      "The degree of freedom for between the groups : 2\n",
      "The sum of square within the groups          : 264.7500\n",
      "The degree of freedom for within the groups  : 21\n",
      "The mean sum of square between the groups    : 1.6250\n",
      "The mean sum of square within the groups     : 12.6071\n",
      "The F statistics is                          : 0.1289\n",
      "The p value is                               : 0.8798\n",
      "\n",
      "INTERPRETATION\n",
      "We accept the null hypothesis\n"
     ]
    }
   ],
   "source": [
    "x = [9,11,13,9,8,7,13,14]\n",
    "y = [13,12,10,15,5,7,9,6]\n",
    "z = [5,8,6,14,13,17,7,9]\n",
    "\n",
    "anova(x,y,z)"
   ]
  },
  {
   "cell_type": "code",
   "execution_count": null,
   "metadata": {},
   "outputs": [],
   "source": []
  }
 ],
 "metadata": {
  "kernelspec": {
   "display_name": "Python 3.10.4 64-bit",
   "language": "python",
   "name": "python3"
  },
  "language_info": {
   "codemirror_mode": {
    "name": "ipython",
    "version": 3
   },
   "file_extension": ".py",
   "mimetype": "text/x-python",
   "name": "python",
   "nbconvert_exporter": "python",
   "pygments_lexer": "ipython3",
   "version": "3.10.4"
  },
  "orig_nbformat": 4,
  "vscode": {
   "interpreter": {
    "hash": "916dbcbb3f70747c44a77c7bcd40155683ae19c65e1c03b4aa3499c5328201f1"
   }
  }
 },
 "nbformat": 4,
 "nbformat_minor": 2
}
