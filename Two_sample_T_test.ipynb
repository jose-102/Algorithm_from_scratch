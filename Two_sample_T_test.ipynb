{
 "cells": [
  {
   "cell_type": "code",
   "execution_count": null,
   "metadata": {},
   "outputs": [],
   "source": [
    "# Importing the required libraries\n",
    "from scipy import stats"
   ]
  },
  {
   "cell_type": "markdown",
   "metadata": {},
   "source": [
    "# T test for Independence"
   ]
  },
  {
   "cell_type": "code",
   "execution_count": 21,
   "metadata": {},
   "outputs": [],
   "source": [
    "def t_test_for_ind(x,y)-> None:\n",
    "  \"\"\"\n",
    "  This function is used to test the difference b/w population when sample data is independent\n",
    "\n",
    "  Args:\n",
    "    x: list or array of numbers.\n",
    "    yL list or array of numbers.\n",
    "  \"\"\"\n",
    "  z = int(input(\"Are the variances Equal? (Enter 1 for Yes and 0 for No)\"))\n",
    "  count1 = 0\n",
    "  sum1 = 0\n",
    "  sum_of_square1 = 0\n",
    "\n",
    "  count2 = 0\n",
    "  sum2 = 0\n",
    "  sum_of_square2 = 0\n",
    "\n",
    "  for a in x:\n",
    "    count1 += 1\n",
    "    sum1 += a\n",
    "    sum_of_square1 += a**2\n",
    "\n",
    "  for b in y:\n",
    "    count2 += 1\n",
    "    sum2 += b\n",
    "    sum_of_square2 += b**2\n",
    "\n",
    "  mean1 = sum1/count1\n",
    "  mean2 = sum2/count2\n",
    "  sample_std1 = ((sum_of_square1/(count1 - 1)) - (count1/(count1 - 1))*mean1**2)**0.5\n",
    "  sample_std2 = ((sum_of_square2/(count2 - 1)) - (count2/(count2 - 1))*mean2**2)**0.5\n",
    "\n",
    "  if z ==0:\n",
    "    den = ((sample_std1**2/count1) + (sample_std2**2/count2))**0.5\n",
    "\n",
    "  else:\n",
    "    s_pooled = ((((count1 - 1)*sample_std1**2) + (count2 -1)*sample_std2**2)/((count1 - 1) + (count2 - 1)))\n",
    "    den = ((s_pooled**2/count1) + (s_pooled**2/count2))**0.5\n",
    "\n",
    "  t_test = (mean1-mean2)/den\n",
    "  p_value = stats.ttest_ind(x,y,equal_var = z).pvalue\n",
    "  if p_value<0.05:\n",
    "    result = \"We reject the Null Hypothesis.\"\n",
    "  else: \n",
    "    result = \"We accept the Null Hypothesis.\"\n",
    "  print('The value of x is                      :',x)\n",
    "  print('The value of y is                      :',y)\n",
    "  print('The mean of X is                       :', round(mean1,4))\n",
    "  print('The mean of Y is                       :', round(mean2,4))\n",
    "  print('The sample standard deviation of X is  :', round(sample_std1,4))\n",
    "  print('The sample standard deviation of Y is  :', round(sample_std2,4))\n",
    "  print('The value of the t statistics is       :', round(t_test,4))\n",
    "  print('The value of the p value is            :', round(p_value,4))\n",
    "  print('Interpretation                         :', result)\n"
   ]
  },
  {
   "cell_type": "code",
   "execution_count": 22,
   "metadata": {},
   "outputs": [],
   "source": [
    "current_tech = [300,280,344,385,372,360,288,321,376,290,301,283,333,261,343,284]\n",
    "new_software = [274,220,308,336,198,300,315,258,318,310,332,263,243,321,351,424,322,344]"
   ]
  },
  {
   "cell_type": "code",
   "execution_count": 23,
   "metadata": {},
   "outputs": [
    {
     "name": "stdout",
     "output_type": "stream",
     "text": [
      "The value of x is                      : [300, 280, 344, 385, 372, 360, 288, 321, 376, 290, 301, 283, 333, 261, 343, 284]\n",
      "The value of y is                      : [274, 220, 308, 336, 198, 300, 315, 258, 318, 310, 332, 263, 243, 321, 351, 424, 322, 344]\n",
      "The mean of X is                       : 320.0625\n",
      "The mean of Y is                       : 302.0556\n",
      "The sample standard deviation of X is  : 39.4723\n",
      "The sample standard deviation of Y is  : 52.9467\n",
      "The value of the t statistics is       : 1.1318\n",
      "The value of the p value is            : 0.2664\n",
      "Interpretation                         : We accept the Null Hypothesis.\n"
     ]
    }
   ],
   "source": [
    "t_test_for_ind(current_tech,new_software)"
   ]
  },
  {
   "cell_type": "markdown",
   "metadata": {},
   "source": [
    "# T Test for dependence"
   ]
  },
  {
   "cell_type": "markdown",
   "metadata": {},
   "source": []
  },
  {
   "cell_type": "code",
   "execution_count": 28,
   "metadata": {},
   "outputs": [],
   "source": [
    "def t_test_for_dep(x,y)-> None:\n",
    "  \"\"\"\n",
    "  This function is used to test the difference b/w population when sample data is dependent\n",
    "\n",
    "  Args:\n",
    "    x: list or array of numbers.\n",
    "    yL list or array of numbers.\n",
    "  \"\"\"\n",
    "  difference = []\n",
    "  for a,b in zip(x,y):\n",
    "    diff = a - b\n",
    "    difference.append(diff)\n",
    "  \n",
    "  count = 0\n",
    "  sum = 0\n",
    "  sum_of_square = 0\n",
    "  for z in difference:\n",
    "    count += 1\n",
    "    sum += z\n",
    "    sum_of_square += z**2\n",
    "\n",
    "  mean = sum/count\n",
    "  sample_std = ((sum_of_square/(count - 1)) - (count/(count - 1))*mean**2)**0.5\n",
    "  t_test = mean/(sample_std/(count)**0.5)\n",
    "  p_value = stats.ttest_rel(x,y).pvalue\n",
    "  if p_value<0.05:\n",
    "    result = \"We reject the null hypothesis.\"\n",
    "  else:\n",
    "    result = \"We accept the null hypothesis.\"\n",
    "\n",
    "  print(\"The value of X is:                         \", x)\n",
    "  print(\"The value of Y is:                         \", y)\n",
    "  print('The sample standard deviation is:          ', round(sample_std,4))\n",
    "  print('The value of the t statistics is:          ', round(t_test,4))\n",
    "  print('The value of the p value is:               ', round(p_value,4))\n",
    "  print('Interpretation:                            ', result)"
   ]
  },
  {
   "cell_type": "code",
   "execution_count": 29,
   "metadata": {},
   "outputs": [
    {
     "name": "stdout",
     "output_type": "stream",
     "text": [
      "The value of X is:                          [6, 6, 7, 4, 3, 9, 7, 6]\n",
      "The value of Y is:                          [5, 4, 7, 3, 5, 8, 5, 6]\n",
      "The sample standard deviation is:           1.3025\n",
      "The value of the t statistics is:           1.3572\n",
      "The value of the p value is:                0.2168\n",
      "Interpretation:                             We accept the null hypothesis.\n"
     ]
    }
   ],
   "source": [
    "x = [6,6,7,4,3,9,7,6]\n",
    "y = [5,4,7,3,5,8,5,6]\n",
    "t_test_for_dep(x,y)"
   ]
  }
 ],
 "metadata": {
  "kernelspec": {
   "display_name": "new_ve",
   "language": "python",
   "name": "new_ve"
  },
  "language_info": {
   "codemirror_mode": {
    "name": "ipython",
    "version": 3
   },
   "file_extension": ".py",
   "mimetype": "text/x-python",
   "name": "python",
   "nbconvert_exporter": "python",
   "pygments_lexer": "ipython3",
   "version": "3.8.8"
  }
 },
 "nbformat": 4,
 "nbformat_minor": 2
}
