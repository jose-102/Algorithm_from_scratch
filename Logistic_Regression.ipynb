{
 "cells": [
  {
   "cell_type": "code",
   "execution_count": 282,
   "metadata": {},
   "outputs": [],
   "source": [
    "# Importing the necessary libraries\n",
    "import pandas as pd\n",
    "import numpy as np\n",
    "import matplotlib.pyplot as plt\n",
    "from sklearn.linear_model import LogisticRegression, SGDClassifier\n",
    "from sklearn.datasets import make_classification"
   ]
  },
  {
   "cell_type": "code",
   "execution_count": 283,
   "metadata": {},
   "outputs": [],
   "source": [
    "# Creating a dataset\n",
    "\n",
    "X, y = make_classification(n_samples=100, n_features=2, n_informative=1,n_redundant=0,\n",
    "                           n_classes=2, n_clusters_per_class=1, random_state=41,hypercube=False,class_sep=30)\n"
   ]
  },
  {
   "cell_type": "code",
   "execution_count": 6,
   "metadata": {},
   "outputs": [
    {
     "data": {
      "text/plain": [
       "((100, 2), (100,))"
      ]
     },
     "execution_count": 6,
     "metadata": {},
     "output_type": "execute_result"
    }
   ],
   "source": [
    "X.shape, y.shape"
   ]
  },
  {
   "cell_type": "code",
   "execution_count": 7,
   "metadata": {},
   "outputs": [
    {
     "data": {
      "text/plain": [
       "34"
      ]
     },
     "execution_count": 7,
     "metadata": {},
     "output_type": "execute_result"
    }
   ],
   "source": [
    "np.random.randint(0,100)"
   ]
  },
  {
   "cell_type": "code",
   "execution_count": 8,
   "metadata": {},
   "outputs": [
    {
     "data": {
      "text/plain": [
       "((100,), (2,))"
      ]
     },
     "execution_count": 8,
     "metadata": {},
     "output_type": "execute_result"
    }
   ],
   "source": [
    "y.shape,np.ones(X.shape[1]).shape"
   ]
  },
  {
   "cell_type": "code",
   "execution_count": 239,
   "metadata": {},
   "outputs": [],
   "source": [
    "class LogisticRegressionByScratch:\n",
    "  \"\"\"\n",
    "  This class provides methods to perform Logistic Regression on the data.\n",
    "  \"\"\"\n",
    "  def __init__(self,learning_rate = 0.1):\n",
    "    self.lr = learning_rate\n",
    "\n",
    "  def sigmoid(self,z)-> float:\n",
    "    \"\"\"\n",
    "    Performs a sigmoid function on the input.\n",
    "\n",
    "    Args:\n",
    "      z: A float\n",
    "    \"\"\"\n",
    "    return 1/(1 + np.exp(-z))\n",
    "  \n",
    "  def fit(self,X,Y)-> None:\n",
    "    \"\"\"\n",
    "    To compute the weights.\n",
    "\n",
    "    Args:\n",
    "      X: np.array  \n",
    "      Y: np.array\n",
    "    \"\"\"\n",
    "    # X = np.array(X)\n",
    "    # Y = np.array(Y)\n",
    "    # Adding a column in the zeroth position for the intercept paramter\n",
    "    X = np.insert(X,0,1,axis = 1)\n",
    "    # Creating an initial weight matrix with 1\n",
    "    self.weights = np.ones(X.shape[1])\n",
    "    \n",
    "    # Implementing Gradient Descent\n",
    "    for i in range(8000):\n",
    "      # A random number j is generated\n",
    "      j = np.random.randint(0,X.shape[0])\n",
    "      # Prediction is calculated\n",
    "      y_hat  = self.sigmoid(np.dot(X,self.weights))\n",
    "      # Now updating the weight\n",
    "      self.weights = self.weights + self.lr*((np.dot(X.T,(Y-y_hat)))/X.shape[0])\n",
    "\n",
    "\n",
    "    \n",
    "  \n",
    "  def predict(self, X) -> np.array:\n",
    "        \"\"\"\n",
    "        Predicts the labels for the input data X.\n",
    "\n",
    "        Args:\n",
    "            X: np.array\n",
    "        \"\"\"\n",
    "        # Adding a column in the zeroth position for the intercept parameter\n",
    "        X = np.insert(X, 0, 1, axis=1)\n",
    "        y_hat = self.sigmoid(np.dot(X, self.weights))\n",
    "        return (y_hat >= 0.5).astype(int), self.weights"
   ]
  },
  {
   "cell_type": "code",
   "execution_count": 258,
   "metadata": {},
   "outputs": [],
   "source": [
    "ls = LogisticRegressionByScratch(learning_rate = 0.0374)\n",
    "ls.fit(X,y)\n",
    "y_hat, w = ls.predict(X)"
   ]
  },
  {
   "cell_type": "code",
   "execution_count": 259,
   "metadata": {},
   "outputs": [],
   "source": [
    "intercept, coeff = w[0],w[1:]"
   ]
  },
  {
   "cell_type": "code",
   "execution_count": 260,
   "metadata": {},
   "outputs": [
    {
     "data": {
      "text/plain": [
       "array([2.71058305, 0.12490654])"
      ]
     },
     "execution_count": 260,
     "metadata": {},
     "output_type": "execute_result"
    }
   ],
   "source": [
    "coeff"
   ]
  },
  {
   "cell_type": "code",
   "execution_count": 261,
   "metadata": {},
   "outputs": [
    {
     "data": {
      "text/plain": [
       "3.364389957035395"
      ]
     },
     "execution_count": 261,
     "metadata": {},
     "output_type": "execute_result"
    }
   ],
   "source": [
    "intercept"
   ]
  },
  {
   "cell_type": "code",
   "execution_count": 262,
   "metadata": {},
   "outputs": [],
   "source": [
    "# Converting from standard to slope intercept form\n",
    "b = -(intercept/coeff[1])\n",
    "m = -(coeff[0]/coeff[1])\n",
    "\n",
    "x_input2 = np.linspace(-3,3,100)\n",
    "y_input2 = m*x_input2 + b"
   ]
  },
  {
   "cell_type": "code",
   "execution_count": 263,
   "metadata": {},
   "outputs": [
    {
     "data": {
      "text/plain": [
       "-21.70089009483508"
      ]
     },
     "execution_count": 263,
     "metadata": {},
     "output_type": "execute_result"
    }
   ],
   "source": [
    "m"
   ]
  },
  {
   "cell_type": "code",
   "execution_count": 264,
   "metadata": {},
   "outputs": [
    {
     "data": {
      "text/plain": [
       "array([ 0.82321545, -0.11697552])"
      ]
     },
     "execution_count": 264,
     "metadata": {},
     "output_type": "execute_result"
    }
   ],
   "source": [
    "X[0]"
   ]
  },
  {
   "cell_type": "code",
   "execution_count": 281,
   "metadata": {},
   "outputs": [
    {
     "data": {
      "text/plain": [
       "(-3.0, 3.0)"
      ]
     },
     "execution_count": 281,
     "metadata": {},
     "output_type": "execute_result"
    },
    {
     "data": {
      "image/png": "[encoded data removed]",
      "text/plain": [
       "<Figure size 720x432 with 1 Axes>"
      ]
     },
     "metadata": {
      "needs_background": "light"
     },
     "output_type": "display_data"
    }
   ],
   "source": [
    "plt.figure(figsize =(10,6))\n",
    "plt.plot(x_input2,y_input2,color = 'red', linewidth = 3)\n",
    "plt.scatter(X[:,0], X[:,1],c = y,cmap ='winter', s = 100)\n",
    "plt.ylim(-3,3)"
   ]
  },
  {
   "cell_type": "markdown",
   "metadata": {},
   "source": [
    "## Comparing the decision boundary with scikit Learn Logistic Regression and Stochastic Gradient descent Classifier"
   ]
  },
  {
   "cell_type": "code",
   "execution_count": 277,
   "metadata": {},
   "outputs": [],
   "source": [
    "lor = LogisticRegression(penalty = 'none',solver = 'sag',max_iter = 2000)\n",
    "lor.fit(X,y)\n",
    "m = -(lor.coef_[0][0]/lor.coef_[0][1])\n",
    "b = -(lor.intercept_/lor.coef_[0][1])\n",
    "x_input1 = np.linspace(-3,3,100)\n",
    "y_input1 = m*x_input1 + b"
   ]
  },
  {
   "cell_type": "code",
   "execution_count": 278,
   "metadata": {},
   "outputs": [
    {
     "data": {
      "text/plain": [
       "-21.383373363582038"
      ]
     },
     "execution_count": 278,
     "metadata": {},
     "output_type": "execute_result"
    }
   ],
   "source": [
    "m"
   ]
  },
  {
   "cell_type": "code",
   "execution_count": 279,
   "metadata": {},
   "outputs": [],
   "source": [
    "sgd = SGDClassifier(penalty = None)\n",
    "sgd.fit(X,y)\n",
    "m = -(sgd.coef_[0][0]/sgd.coef_[0][1])\n",
    "b = -(sgd.intercept_/sgd.coef_[0][1])\n",
    "x_input3 = np.linspace(-3,3,100)\n",
    "y_input3 = m*x_input3 + b"
   ]
  },
  {
   "cell_type": "code",
   "execution_count": 280,
   "metadata": {},
   "outputs": [
    {
     "data": {
      "text/plain": [
       "(-3.0, 3.0)"
      ]
     },
     "execution_count": 280,
     "metadata": {},
     "output_type": "execute_result"
    },
    {
     "data": {
      "image/png": "[encoded data removed]",
      "text/plain": [
       "<Figure size 720x432 with 1 Axes>"
      ]
     },
     "metadata": {
      "needs_background": "light"
     },
     "output_type": "display_data"
    }
   ],
   "source": [
    "plt.figure(figsize =(10,6))\n",
    "plt.plot(x_input2,y_input2,color = 'red', linewidth = 3)\n",
    "plt.plot(x_input1,y_input1,color = 'black', linewidth = 3)\n",
    "plt.plot(x_input3,y_input3,color = 'green', linewidth = 3)\n",
    "plt.scatter(X[:,0], X[:,1],c = y,cmap ='winter', s = 100)\n",
    "plt.ylim(-3,3)"
   ]
  }
 ],
 "metadata": {
  "kernelspec": {
   "display_name": "new_ve",
   "language": "python",
   "name": "new_ve"
  },
  "language_info": {
   "codemirror_mode": {
    "name": "ipython",
    "version": 3
   },
   "file_extension": ".py",
   "mimetype": "text/x-python",
   "name": "python",
   "nbconvert_exporter": "python",
   "pygments_lexer": "ipython3",
   "version": "3.8.8"
  }
 },
 "nbformat": 4,
 "nbformat_minor": 2
}
