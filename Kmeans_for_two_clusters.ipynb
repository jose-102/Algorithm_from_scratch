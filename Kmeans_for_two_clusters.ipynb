{
 "cells": [
  {
   "cell_type": "code",
   "execution_count": 51,
   "metadata": {},
   "outputs": [],
   "source": [
    "# Importing the required Librariies\n",
    "import numpy as np\n",
    "import pandas as pd"
   ]
  },
  {
   "cell_type": "code",
   "execution_count": 52,
   "metadata": {},
   "outputs": [],
   "source": [
    "# A random Data\n",
    "data=[[185,72],\n",
    "[170,56],\n",
    "[168,60],\n",
    "[179,68],\n",
    "[182,72],\n",
    "[188,77],\n",
    "[180,71],\n",
    "[180,70],\n",
    "[183,84],\n",
    "[180,88],\n",
    "[180,67],\n",
    "[177,76]]\n",
    "data=np.array(data)"
   ]
  },
  {
   "cell_type": "code",
   "execution_count": 54,
   "metadata": {},
   "outputs": [],
   "source": [
    "class kmeans:\n",
    "    \n",
    "    def euclidean(self,a,b)-> float:\n",
    "        \"\"\"\n",
    "        The function is used to calculate the euclidean distance b/w two points.\n",
    "\n",
    "        Args:\n",
    "            a: np.array of shape (2,)\n",
    "            b: np.array of shape (2,)\n",
    "        \"\"\"\n",
    "        distance = ((a[0]-b[0])**2+(a[1]-b[1])**2)**(1/2)\n",
    "        return round(distance,2)\n",
    "\n",
    "    def fit(self,array)-> None:\n",
    "        \"\"\"\n",
    "        The function would be used on the train dataset to find the centroids of the two clusters.\n",
    "\n",
    "        Args:\n",
    "            array: An array containing multiple arrays  of shape (2,)\n",
    "        \"\"\"\n",
    "        self.array = array\n",
    "        self.random_point1 = array[0]\n",
    "        self.random_point2 = array[1]\n",
    "        \n",
    "        \n",
    "        #finding the number of obsevations\n",
    "        count = 0\n",
    "        for x in array:\n",
    "            count +=1\n",
    "            \n",
    "        #finding the distance of each point from the selected centroids\n",
    "        distance1 = []\n",
    "        distance2 = []\n",
    "        for x in array:\n",
    "            distance1.append(self.euclidean(self.random_point1,x))\n",
    "            \n",
    "        for y in array:\n",
    "            distance2.append(self.euclidean(self.random_point2,y))\n",
    "        \n",
    "        #Assigning the items based on the distance to each clusters\n",
    "        cluster1 = []\n",
    "        cluster2 = []\n",
    "        for x,y,z in zip(distance1,distance2,range(count)):\n",
    "            if x<y:\n",
    "                cluster1.append(array[z])\n",
    "            else:\n",
    "                cluster2.append(array[z])\n",
    "        \n",
    "\n",
    "        #finding the new centroids\n",
    "        self.random_point1 = sum(cluster1)/len(cluster1)\n",
    "        self.random_point2 = sum(cluster2)/len(cluster2)\n",
    "        \n",
    "        #Creating a list of all the clusters\n",
    "        cluster1s = [cluster1]\n",
    "        cluster2s = [cluster2]\n",
    "        \n",
    "        #repeat the process with new centroids\n",
    "        i = 0\n",
    "        x = True\n",
    "        while x:\n",
    "            #finding the distance of each point from the selected centroids\n",
    "            distance1 = []\n",
    "            distance2 = []\n",
    "            for x in array:\n",
    "                distance1.append(self.euclidean(self.random_point1,x))\n",
    "            \n",
    "            for y in array:\n",
    "                distance2.append(self.euclidean(self.random_point2,y))\n",
    "            \n",
    "            #Assigning the items based on the distance to each clusters\n",
    "            cluster1 = []\n",
    "            cluster2 = []\n",
    "            for x,y,z in zip(distance1,distance2,range(count)):\n",
    "                if x<y:\n",
    "                    cluster1.append(array[z])\n",
    "                else:\n",
    "                    cluster2.append(array[z])\n",
    "            cluster1s.append(cluster1)\n",
    "            cluster2s.append(cluster2)\n",
    "             #finding the new centroids\n",
    "            self.random_point1 = sum(cluster1)/len(cluster1)\n",
    "            self.random_point2 = sum(cluster2)/len(cluster2)\n",
    "            \n",
    "            #Stopping the loop function\n",
    "            if np.array_equal(cluster1s[i-1],cluster1s[i]):\n",
    "                x = False\n",
    "            i +=1\n",
    "\n",
    "    def transform(self,array)-> np.array:\n",
    "        \"\"\"\n",
    "        The function would be used to divide the given data to two clusters.\n",
    "\n",
    "        Args:\n",
    "            array: An array containing multiple arrays  of shape (2,)\n",
    "        \"\"\"\n",
    "        #finding the distance of each point from the selected centroids\n",
    "        distance1 = []\n",
    "        distance2 = []\n",
    "        for x in array:\n",
    "            distance1.append(self.euclidean(self.random_point1,x))\n",
    "        \n",
    "        for y in array:\n",
    "            distance2.append(self.euclidean(self.random_point2,y))\n",
    "        \n",
    "        #Assigning the items based on the distance to each clusters\n",
    "        cluster1 = []\n",
    "        cluster2 = []\n",
    "        for x,y,z in zip(distance1,distance2,range(len(distance1))):\n",
    "            if x<y:\n",
    "                cluster1.append(array[z])\n",
    "            else:\n",
    "                cluster2.append(array[z])\n",
    "\n",
    "        return cluster1, cluster2\n"
   ]
  },
  {
   "cell_type": "code",
   "execution_count": 55,
   "metadata": {},
   "outputs": [],
   "source": [
    "# Initializing the class\n",
    "model= kmeans()\n",
    "# Fitting the data\n",
    "model.fit(data)\n",
    "# Checking the clusters\n",
    "cluster1,cluster2 = model.transform(data)"
   ]
  },
  {
   "cell_type": "code",
   "execution_count": 57,
   "metadata": {},
   "outputs": [
    {
     "name": "stdout",
     "output_type": "stream",
     "text": [
      "Points identified in the first cluster:  [array([185,  72]), array([179,  68]), array([182,  72]), array([188,  77]), array([180,  71]), array([180,  70]), array([183,  84]), array([180,  88]), array([180,  67]), array([177,  76])]\n",
      "Points identified in the second cluster:  [array([170,  56]), array([168,  60])]\n"
     ]
    }
   ],
   "source": [
    "print(\"Points identified in the first cluster: \", cluster1)\n",
    "print(\"Points identified in the second cluster: \", cluster2)"
   ]
  },
  {
   "cell_type": "code",
   "execution_count": 59,
   "metadata": {},
   "outputs": [],
   "source": [
    "# New data\n",
    "new_data = [[175,52],\n",
    "[165,64],\n",
    "[172,68],\n",
    "[185,76]]\n",
    "cluster1,cluster2 = model.transform(new_data)"
   ]
  },
  {
   "cell_type": "code",
   "execution_count": 60,
   "metadata": {},
   "outputs": [
    {
     "name": "stdout",
     "output_type": "stream",
     "text": [
      "Points identified in the first cluster:  [[185, 76]]\n",
      "Points identified in the second cluster:  [[175, 52], [165, 64], [172, 68]]\n"
     ]
    }
   ],
   "source": [
    "print(\"Points identified in the first cluster: \", cluster1)\n",
    "print(\"Points identified in the second cluster: \", cluster2)"
   ]
  },
  {
   "cell_type": "markdown",
   "metadata": {},
   "source": [
    "# Verifying the answer with the sklearn module"
   ]
  },
  {
   "cell_type": "code",
   "execution_count": 40,
   "metadata": {},
   "outputs": [],
   "source": [
    "from sklearn.cluster import KMeans"
   ]
  },
  {
   "cell_type": "code",
   "execution_count": 41,
   "metadata": {},
   "outputs": [],
   "source": [
    "model = KMeans(n_clusters = 2)\n"
   ]
  },
  {
   "cell_type": "code",
   "execution_count": 42,
   "metadata": {},
   "outputs": [
    {
     "data": {
      "text/plain": [
       "KMeans(n_clusters=2)"
      ]
     },
     "execution_count": 42,
     "metadata": {},
     "output_type": "execute_result"
    }
   ],
   "source": [
    "model.fit(data)"
   ]
  },
  {
   "cell_type": "code",
   "execution_count": 43,
   "metadata": {},
   "outputs": [
    {
     "data": {
      "text/plain": [
       "array([[181.4,  74.5],\n",
       "       [169. ,  58. ]])"
      ]
     },
     "execution_count": 43,
     "metadata": {},
     "output_type": "execute_result"
    }
   ],
   "source": [
    "model.cluster_centers_"
   ]
  },
  {
   "cell_type": "code",
   "execution_count": 44,
   "metadata": {},
   "outputs": [
    {
     "data": {
      "text/plain": [
       "array([0, 1, 1, 0, 0, 0, 0, 0, 0, 0, 0, 0], dtype=int32)"
      ]
     },
     "execution_count": 44,
     "metadata": {},
     "output_type": "execute_result"
    }
   ],
   "source": [
    "model.predict(data)"
   ]
  },
  {
   "cell_type": "code",
   "execution_count": 46,
   "metadata": {},
   "outputs": [
    {
     "name": "stdout",
     "output_type": "stream",
     "text": [
      "Points identified in the first cluster:  [array([185,  72]), array([179,  68]), array([182,  72]), array([188,  77]), array([180,  71]), array([180,  70]), array([183,  84]), array([180,  88]), array([180,  67]), array([177,  76])]\n",
      "Points identified in the second cluster:  [array([170,  56]), array([168,  60])]\n"
     ]
    }
   ],
   "source": [
    "first_cluster = []\n",
    "second_cluster = []\n",
    "for y,x in enumerate(model.predict(data)):\n",
    "  if x ==0:\n",
    "    first_cluster.append(data[y])\n",
    "  else:\n",
    "    second_cluster.append(data[y])\n",
    "\n",
    "print(\"Points identified in the first cluster: \", first_cluster)\n",
    "print(\"Points identified in the second cluster: \", second_cluster)"
   ]
  },
  {
   "cell_type": "code",
   "execution_count": 47,
   "metadata": {},
   "outputs": [
    {
     "name": "stdout",
     "output_type": "stream",
     "text": [
      "Points identified in the first cluster:  [[185, 76]]\n",
      "Points identified in the second cluster:  [[175, 52], [165, 64], [172, 68]]\n"
     ]
    }
   ],
   "source": [
    "first_cluster = []\n",
    "second_cluster = []\n",
    "for y,x in enumerate(model.predict(new_data)):\n",
    "  if x ==0:\n",
    "    first_cluster.append(new_data[y])\n",
    "  else:\n",
    "    second_cluster.append(new_data[y])\n",
    "\n",
    "print(\"Points identified in the first cluster: \", first_cluster)\n",
    "print(\"Points identified in the second cluster: \", second_cluster)"
   ]
  }
 ],
 "metadata": {
  "kernelspec": {
   "display_name": "new_ve",
   "language": "python",
   "name": "new_ve"
  },
  "language_info": {
   "codemirror_mode": {
    "name": "ipython",
    "version": 3
   },
   "file_extension": ".py",
   "mimetype": "text/x-python",
   "name": "python",
   "nbconvert_exporter": "python",
   "pygments_lexer": "ipython3",
   "version": "3.8.8"
  }
 },
 "nbformat": 4,
 "nbformat_minor": 2
}
